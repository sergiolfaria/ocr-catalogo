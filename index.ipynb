{
 "cells": [
  {
   "cell_type": "code",
   "execution_count": 24,
   "metadata": {},
   "outputs": [
    {
     "name": "stdout",
     "output_type": "stream",
     "text": [
      "Resultados salvos em: resultados.csv\n",
      "\n",
      "Conteúdo do DataFrame:\n",
      "shape: (12, 2)\n",
      "┌───────────────┬────────────┐\n",
      "│ arquivo       ┆ texto      │\n",
      "│ ---           ┆ ---        │\n",
      "│ str           ┆ str        │\n",
      "╞═══════════════╪════════════╡\n",
      "│ 017.15325.jpg ┆ 0171532501 │\n",
      "│               ┆ R$ 23,58   │\n",
      "│               ┆            │\n",
      "│               ┆            │\n",
      "│ 017.25779.jpg ┆ null       │\n",
      "│ 017.28644.jpg ┆ 0172864401 │\n",
      "│               ┆ R$ 19,97   │\n",
      "│               ┆            │\n",
      "│               ┆            │\n",
      "│ 017.28645.jpg ┆ 0172864501 │\n",
      "│               ┆ R$ 19,97   │\n",
      "│               ┆            │\n",
      "│               ┆            │\n",
      "│ 017.28651.jpg ┆ 0172865101 │\n",
      "│               ┆ R$ 38,17   │\n",
      "│               ┆            │\n",
      "│               ┆            │\n",
      "│ …             ┆ …          │\n",
      "│ 017.28668.jpg ┆ 0172866801 │\n",
      "│               ┆ R$ 27,76   │\n",
      "│               ┆            │\n",
      "│               ┆            │\n",
      "│ 017.28669.jpg ┆ 0172866901 │\n",
      "│               ┆ R$ 24,23   │\n",
      "│               ┆            │\n",
      "│               ┆            │\n",
      "│ 017.28674.jpg ┆ 0172867401 │\n",
      "│               ┆ R$ 24,23   │\n",
      "│               ┆            │\n",
      "│               ┆            │\n",
      "│ 017.28730.jpg ┆ 0172873001 │\n",
      "│               ┆ R$ 48,59   │\n",
      "│               ┆            │\n",
      "│               ┆            │\n",
      "│ 017.28755.jpg ┆ 0172875501 │\n",
      "│               ┆ R$ 34,65   │\n",
      "│               ┆            │\n",
      "│               ┆            │\n",
      "└───────────────┴────────────┘\n"
     ]
    }
   ],
   "source": [
    "import os\n",
    "from PIL import Image\n",
    "import pytesseract\n",
    "import polars as pl\n",
    "import csv\n",
    "\n",
    "\n",
    "pytesseract.pytesseract.tesseract_cmd = r'C:\\Program Files\\Tesseract-OCR\\tesseract.exe'\n",
    "\n",
    "\n",
    "pasta = \"./imagens\"\n",
    "extensoes = ('.png', '.jpg', 'jpeg')\n",
    "resultados = []\n",
    "\n",
    "\n",
    "for arquivo in os.listdir(pasta):\n",
    "    if arquivo.lower().endswith(extensoes):\n",
    "        img = os.path.join(pasta, arquivo)\n",
    "        texto = pytesseract.image_to_string(img, lang=\"eng\")\n",
    "        resultados.append({\"arquivo\": arquivo, \"texto\": texto})\n",
    "       \n",
    "\n",
    "\n",
    "csv_path = \"resultados.csv\"\n",
    "with open(csv_path, mode='w', newline='', encoding='utf-8') as file:\n",
    "    writer = csv.DictWriter(file, fieldnames=[\"arquivo\", \"texto\"])\n",
    "    writer.writeheader()\n",
    "    writer.writerows(resultados)\n",
    "\n",
    "print(f\"Resultados salvos em: {csv_path}\")\n",
    "\n",
    "\n",
    "df = pl.read_csv(csv_path)\n",
    "print(\"\\nConteúdo do DataFrame:\")\n",
    "print(df)\n"
   ]
  },
  {
   "cell_type": "code",
   "execution_count": 29,
   "metadata": {},
   "outputs": [
    {
     "name": "stdout",
     "output_type": "stream",
     "text": [
      "Texto extraído: Oo» ab CO®\n",
      "\n",
      "Oo» os O®\n",
      "\n"
     ]
    }
   ],
   "source": [
    "\n",
    "\n",
    "imagem = Image.open(\"./imagens/017.25779.jpg\")\n",
    "\n",
    "\n",
    "texto = pytesseract.image_to_string(imagem, lang=\"eng\")\n",
    "print(\"Texto extraído:\", texto)"
   ]
  },
  {
   "cell_type": "code",
   "execution_count": 28,
   "metadata": {},
   "outputs": [
    {
     "name": "stderr",
     "output_type": "stream",
     "text": [
      "Neither CUDA nor MPS are available - defaulting to CPU. Note: This module is much faster with a GPU.\n"
     ]
    },
    {
     "name": "stdout",
     "output_type": "stream",
     "text": [
      "Texto extraído: 0172864401 RS 19,97\n"
     ]
    }
   ],
   "source": [
    "\n",
    "import easyocr\n",
    "\n",
    "\n",
    "# Inicializa o leitor do EasyOCR com o idioma desejado\n",
    "reader = easyocr.Reader(['en'],gpu=True)  # 'en' para inglês\n",
    "\n",
    "# Caminho para a imagem\n",
    "imagem_caminho = \"./imagens/017.28644.jpg\"\n",
    "\n",
    "# Processar a imagem\n",
    "texto = reader.readtext(imagem_caminho, detail=0)  # detail=0 retorna apenas o texto\n",
    "\n",
    "# Exibir o texto extraído\n",
    "print(\"Texto extraído:\", \" \".join(texto))\n"
   ]
  }
 ],
 "metadata": {
  "kernelspec": {
   "display_name": ".venv",
   "language": "python",
   "name": "python3"
  },
  "language_info": {
   "codemirror_mode": {
    "name": "ipython",
    "version": 3
   },
   "file_extension": ".py",
   "mimetype": "text/x-python",
   "name": "python",
   "nbconvert_exporter": "python",
   "pygments_lexer": "ipython3",
   "version": "3.12.7"
  }
 },
 "nbformat": 4,
 "nbformat_minor": 2
}
